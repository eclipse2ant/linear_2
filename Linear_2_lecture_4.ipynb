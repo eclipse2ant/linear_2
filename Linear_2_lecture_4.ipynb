{
  "nbformat": 4,
  "nbformat_minor": 0,
  "metadata": {
    "colab": {
      "name": "Linear_2-lecture_4.ipynb",
      "provenance": [],
      "toc_visible": true,
      "include_colab_link": true
    },
    "kernelspec": {
      "name": "python3",
      "display_name": "Python 3"
    },
    "language_info": {
      "name": "python"
    }
  },
  "cells": [
    {
      "cell_type": "markdown",
      "metadata": {
        "id": "view-in-github",
        "colab_type": "text"
      },
      "source": [
        "<a href=\"https://colab.research.google.com/github/eclipse2ant/linear_2/blob/master/Linear_2_lecture_4.ipynb\" target=\"_parent\"><img src=\"https://colab.research.google.com/assets/colab-badge.svg\" alt=\"Open In Colab\"/></a>"
      ]
    },
    {
      "cell_type": "markdown",
      "metadata": {
        "id": "3Wsu8QOBK_li"
      },
      "source": [
        "# 2.ジョルダンの標準形"
      ]
    },
    {
      "cell_type": "markdown",
      "metadata": {
        "id": "HKJRDenjLVJI"
      },
      "source": [
        "## 2.1.加群"
      ]
    },
    {
      "cell_type": "markdown",
      "metadata": {
        "id": "GxcIuwJFj2i3"
      },
      "source": [
        "### 2.1.1.$K[X]$"
      ]
    },
    {
      "cell_type": "markdown",
      "metadata": {
        "id": "WR0cI4IBkUGC"
      },
      "source": [
        "- これまで、最小多項式や固有多項式が固有ベクトルや対角化可能に密接に関係していることを学びました。何故、多項式が行列と関係してくるのでしょうか？　不思議でないですか？　固有ベクトル事件を追ってたら、多項式の謎の組織が現れた、さながらそんな感じですね。線形数学I　において、線型空間の定義を学びましたが、体ではなく環が作用したとき、加群ということを学びました。実は環$R$を$K[X]$という$K$上の多項式環とした$R$-加群がこの謎をとく鍵になります。"
      ]
    },
    {
      "cell_type": "markdown",
      "metadata": {
        "id": "XsK1jcLzlXMZ"
      },
      "source": [
        "### 2.1.2.多項式の余り"
      ]
    },
    {
      "cell_type": "markdown",
      "metadata": {
        "id": "PLAnsyJilW5e"
      },
      "source": [
        "- $f(x) \\in K[X]$ に対して、$\\lambda \\in K$に対して、$g(X)=(X-\\lambda)^3$で割った余りの世界を考えましょう。余りは$a_1(X-\\lambda)^2+a_2(X-\\lambda)+a_3, a_i \\in K\\  (i=1,2,3)$ で表わされます。"
      ]
    },
    {
      "cell_type": "markdown",
      "metadata": {
        "id": "qFO1dUYVllYP"
      },
      "source": [
        "- 従って、$K[X]/(X-\\lambda)^3K[X]$ は$K$ 上$3$ 次元の線型空間になります。Jordan.pdf に書いたように$F$ を定義すると、$F$に関しても、同様に固有値、固有ベクトルが定義されます。$F$を対角行列で表示できる基底が存在するとき、$F$は対角化可能というとすると、$F$ は　対角化可能でしょうか？ "
      ]
    }
  ]
}