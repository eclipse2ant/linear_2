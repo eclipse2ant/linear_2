{
  "nbformat": 4,
  "nbformat_minor": 0,
  "metadata": {
    "colab": {
      "name": "Linear_2-lecture_8.ipynb",
      "provenance": [],
      "include_colab_link": true
    },
    "kernelspec": {
      "name": "python3",
      "display_name": "Python 3"
    },
    "language_info": {
      "name": "python"
    }
  },
  "cells": [
    {
      "cell_type": "markdown",
      "metadata": {
        "id": "view-in-github",
        "colab_type": "text"
      },
      "source": [
        "<a href=\"https://colab.research.google.com/github/eclipse2ant/linear_2/blob/master/Linear_2_lecture_8.ipynb\" target=\"_parent\"><img src=\"https://colab.research.google.com/assets/colab-badge.svg\" alt=\"Open In Colab\"/></a>"
      ]
    },
    {
      "cell_type": "markdown",
      "metadata": {
        "id": "t1sQGMT4WJrf"
      },
      "source": [
        "\n",
        "### 2.1.7. 証明\n"
      ]
    },
    {
      "cell_type": "markdown",
      "metadata": {
        "id": "vTdMFJmia9jx"
      },
      "source": [
        "- ここでは、Jordan-proof-1,2,3.jpeg に従って証明を考えます。なおページ数で引用します。\n",
        "\n"
      ]
    },
    {
      "cell_type": "markdown",
      "metadata": {
        "id": "pEQg1aARxTZ9"
      },
      "source": [
        "- 最初は一般の体$K$で必ずしも代数的閉体でないときから始めてます。途中から代数的閉体を仮定します。それとこの本の表記は$K[X]$ でなく$K[T]$ を使ってますので、こちらに合わせます。p.76 8行目に　前回扱った作用のさせ方が書いてます。これによって 行列$A$ ここでは　線形写像$f$ の作用から有限生成$K[T]$-加群として$V$ が与えられます。以下のくだりは構造定理を適応した形ですね。"
      ]
    },
    {
      "cell_type": "markdown",
      "metadata": {
        "id": "SqNOz6JKN8jx"
      },
      "source": [
        "- さて代数的閉体を仮定して、p.78 5行目の式は中国式剰余定理からですこの定理については以前$\\mathbb{Z}$ のときに簡単な例をやりました。定理自体についてはご自分で調べてください。以後のジョルダン標準形の下りはまえに色々やった話ですね。実際の証明は、p.79 の計算法からです。尚、ここで計算法となってるのは、ここまでの議論で形は一意的に決まってしまうからです。それは構造定理の一意性から来ています。しかしこれでは、対角成分が固有値になってるとか、固有多項式との関係や最小多項式についてさらに具体的にどんな形は具体的には何も言えてません。その意味で、以下の話が計算法になってるわけです。"
      ]
    }
  ]
}