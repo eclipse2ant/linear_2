{
  "nbformat": 4,
  "nbformat_minor": 0,
  "metadata": {
    "colab": {
      "name": "Linear_2-lecture_8.ipynb",
      "provenance": [],
      "include_colab_link": true
    },
    "kernelspec": {
      "name": "python3",
      "display_name": "Python 3"
    },
    "language_info": {
      "name": "python"
    }
  },
  "cells": [
    {
      "cell_type": "markdown",
      "metadata": {
        "id": "view-in-github",
        "colab_type": "text"
      },
      "source": [
        "<a href=\"https://colab.research.google.com/github/eclipse2ant/linear_2/blob/master/Linear_2_lecture_8.ipynb\" target=\"_parent\"><img src=\"https://colab.research.google.com/assets/colab-badge.svg\" alt=\"Open In Colab\"/></a>"
      ]
    },
    {
      "cell_type": "markdown",
      "metadata": {
        "id": "t1sQGMT4WJrf"
      },
      "source": [
        "\n",
        "### 2.1.7. 証明\n"
      ]
    },
    {
      "cell_type": "markdown",
      "metadata": {
        "id": "vTdMFJmia9jx"
      },
      "source": [
        "- ここでは、Jordan-proof-1,2,3.jpeg に従って証明を考えます。なおページ数で引用します。\n",
        "\n"
      ]
    },
    {
      "cell_type": "markdown",
      "metadata": {
        "id": "pEQg1aARxTZ9"
      },
      "source": [
        "- 最初は一般の体$K$で必ずしも代数的閉体でないときから始めてます。途中から代数的閉体を仮定します。それとこの本の表記は$K[X]$ でなく$K[T]$ を使ってますので、こちらに合わせます。p.76 8行目に　前回扱った作用のさせ方が書いてます。これによって 行列$A$ ここでは　線形写像$f$ の作用から有限生成$K[T]$-加群として$V$ が与えられます。以下のくだりは構造定理を適応した形ですね。"
      ]
    },
    {
      "cell_type": "markdown",
      "metadata": {
        "id": "SqNOz6JKN8jx"
      },
      "source": [
        "- さて代数的閉体を仮定して、p.78 5行目の式は中国式剰余定理からです。この定理については以前$\\mathbb{Z}$ のときに簡単な例をやりました。定理自体についてはご自分で調べてください。以後のジョルダン標準形の下りはまえに色々やった話ですね。実際の証明は、p.79 の計算法からです。尚、ここで計算法となってるのは、ここまでの議論で形は一意的に決まってしまうからです。それは構造定理の一意性から来ています。しかしこれでは、対角成分が固有値になってるとか、固有多項式との関係や最小多項式についてさらに具体的にどんな形は具体的には何も言えてません。その意味で、以下の話が計算法になってるわけです。"
      ]
    },
    {
      "cell_type": "markdown",
      "metadata": {
        "id": "dwX1pShToDV_"
      },
      "source": [
        "- さてp.80 において書かれてるように、$V$ の基底 $(e_i)_{1\\leq i \\leq n}$ に関し、線形写像 $f$ の表現行列を $F$ とすると、　${}^t\\!(p_1,\\cdots p_n) \\in R^n$ を$T$ 倍することを $F$を施すことと同一視したい。それには、$(T1_n - F)(R^n)$つまり $Im\\ F(T) $ で　$R^n$ を割った商加群を考えればよい。そしてこの加群が実際加群 $V$ と同型であることを示す。 \n"
      ]
    },
    {
      "cell_type": "markdown",
      "metadata": {
        "id": "mokkXShmwqmP"
      },
      "source": [
        "- そのために $\\varphi, \\psi$ を定義している。ここで　Jordan-proof-4.jpeg の定理12.1 いわゆる単因子論を使う。これは体$K$ のときの基本変形で対角成分を１か０にするのと同じ。今場合０は出てこない。なぜなら ０があると変形した行列の行列式は０になる。行列式の定義は$K$のときと同じなので、行列式は基本変形によらないから、$det(F(T))$ に等しくないいけないから 0 でない。またこのことから $d_1(T)\\cdots d_r(T)$ は固有多項式になる。また　$dim_K(R^n/Im\\ F(T))=n$　となり、$R^n/Im\\ F(T)=R^n/Im\\ \\varphi=R^n/Ker\\ \\psi$ となる"
      ]
    }
  ]
}