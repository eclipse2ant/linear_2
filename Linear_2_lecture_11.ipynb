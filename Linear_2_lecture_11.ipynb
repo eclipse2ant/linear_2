{
  "nbformat": 4,
  "nbformat_minor": 0,
  "metadata": {
    "colab": {
      "name": "Linear_2-lecture_11.ipynb ",
      "provenance": [],
      "include_colab_link": true
    },
    "kernelspec": {
      "name": "python3",
      "display_name": "Python 3"
    },
    "language_info": {
      "name": "python"
    }
  },
  "cells": [
    {
      "cell_type": "markdown",
      "metadata": {
        "id": "view-in-github",
        "colab_type": "text"
      },
      "source": [
        "<a href=\"https://colab.research.google.com/github/eclipse2ant/linear_2/blob/master/Linear_2_lecture_11.ipynb\" target=\"_parent\"><img src=\"https://colab.research.google.com/assets/colab-badge.svg\" alt=\"Open In Colab\"/></a>"
      ]
    },
    {
      "cell_type": "markdown",
      "metadata": {
        "id": "pEQg1aARxTZ9"
      },
      "source": [
        "## 2.1.4.座標変換"
      ]
    },
    {
      "cell_type": "markdown",
      "metadata": {
        "id": "SqNOz6JKN8jx"
      },
      "source": [
        "- 今からは特に断らない限り、有限次元とします。(断らなければｎ次元とします）\n",
        "- 簡単のため実線形空間の場合で話しますが、必要に応じて複素の場合を話します。実数と複素数の関係は、結構、奥が深いので一概に言えません。ただ、実線形空間は角度があって直感的ですが、複素ベクトルのなす角というのは、ないような。。。ただし直交は内積が０だからありますが。複素数で考える御利益は、代数的には方程式が全部解けるということ（代数的閉体）と　解析的には、複素関数論は実関数論より遥かに綺麗です。１回微分可能であれば無限回微分可能で、解析関数というか、級数展開、ローラン展開、留数定理、コーシーの積分定理等々、言い出したらきりがありません。また複素射影的非特異であれば、SerreのGAGAで、代数多様体と対応して連接層のカテゴリーは圏同値という意味で、代数幾何とも繋がっていきます。\n",
        "- とりあえず実線形空間が直感的なのでそちらで話して、そのまま複素でも同じアナロジーが使えるところは、それを使って、話を進めましょう。\n"
      ]
    },
    {
      "cell_type": "markdown",
      "metadata": {
        "id": "y9ZohkpDquSb"
      },
      "source": [
        "- まず正規直交基底は、座標軸のなかでも直交座標にあたります。これまで内積のないときの基底変換は、斜交座標もあったわけです。直交座標から直交座標の変換は正規直交基底の取り替えに当たります。正規直交基底が正規直交基底変換されるための必要十分条件は、変換行列が直交行列であることです。ここではなるべく幾何的に述べます。まず直交行列全体から集合は$\\mathbb{R}^{n^2}$ のなかで普通の位相で有界閉集合になっています。従ってコンパクトです。それに対し、基底の変換全体は　正則行列全体で普通は $GL(n,\\mathbb{R})$で表しますが、$det : \\mathbb{R}^{n^2} \\longrightarrow \\mathbb{R}$ は連続関数ですから $GL(n,\\mathbb{R}) = det^{-1}(\\mathbb{R}-\\{0\\})$ ですから$\\mathbb{R}^{n^2}$の開集合です。この辺は位相空間論の良い遊び例ですから色々遊んでみてください。直交行列全体は$O(n)$ と書き直交群といいます、群というのは、行列の積に関して、群になっています。$GL(n,\\mathbb{R}$ は一般線形群　といいます。\n",
        "実はこれらの行列の積と逆行列を取る操作は連続に写像になっています。こういう群を位相群いいます。実際はさらに微分可能が論じられて、つまり多様体になっていてリー群になっています。直交群は行列式が１か−１です。特に１の方を回転群といい$SO(n)$ で表します。これは連結です。$O(n)=S0(n)\\coprod \\epsilon\\cdot SO(n) $ ここで$\\epsilon$ は$O(n)$ の元で行列式が−１のものならなんでもいいです。"
      ]
    },
    {
      "cell_type": "markdown",
      "metadata": {
        "id": "NCL6BtNn27O7"
      },
      "source": [
        "- 特に $n=2$ の時を考えてみましょう。$\\epsilon$ としては標準基底$e_1,e_2$ を順番を入れ替える行列をとれば　$SO(2)$ は　回転になっています。　$\\epsilon$ は平面$\\mathbb{R}^2$ を裏返す操作になっています。平面の表と裏を基底の偶置換、奇置換で定義すれば、直交行列とは、回転と裏表をひっくり返す操作です。これは一般の$n$次元の時も同じ、裏表とは言わずに、線型空間の**向き**と言います。ベクトル空間の距離を変えない写像は自動的に、単射になります。またその中で原点を原点に移すものは自動的に線形写像になります。従って全単射になります。だから距離を変えない写像は、自動的に平行移動か回転か向きを変える変換（鏡映変換）の組み合わせです。\n"
      ]
    },
    {
      "cell_type": "markdown",
      "metadata": {
        "id": "ev9iPO3WBl1z"
      },
      "source": [
        " - $(x,y)=\\frac{1}{2}(\\parallel x+y\\parallel^2 - \\parallel x \\ \\parallel^2 - \\parallel y \\ \\parallel^2)$ より　距離を変えなければ。内積を保つ、これは長さを保てば、角度も変えない。これは3角形の合同条件、3辺が等しい三角形は合同で、だから角度も等しくなるという初等幾何の話を表してます。\n"
      ]
    }
  ]
}