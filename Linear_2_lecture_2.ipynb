{
  "nbformat": 4,
  "nbformat_minor": 0,
  "metadata": {
    "colab": {
      "name": "Linear_2-lecture_2.ipynb",
      "provenance": [],
      "toc_visible": true,
      "authorship_tag": "ABX9TyOXkJMRy1HoBa0zIeamUiE3",
      "include_colab_link": true
    },
    "kernelspec": {
      "name": "python3",
      "display_name": "Python 3"
    },
    "language_info": {
      "name": "python"
    }
  },
  "cells": [
    {
      "cell_type": "markdown",
      "metadata": {
        "id": "view-in-github",
        "colab_type": "text"
      },
      "source": [
        "<a href=\"https://colab.research.google.com/github/eclipse2ant/linear_2/blob/master/Linear_2_lecture_2.ipynb\" target=\"_parent\"><img src=\"https://colab.research.google.com/assets/colab-badge.svg\" alt=\"Open In Colab\"/></a>"
      ]
    },
    {
      "cell_type": "markdown",
      "metadata": {
        "id": "vXMztBUaVnwo"
      },
      "source": [
        "# 固有値、固有ベクトル"
      ]
    },
    {
      "cell_type": "markdown",
      "metadata": {
        "id": "t1sQGMT4WJrf"
      },
      "source": [
        "## 1. 量子力学"
      ]
    },
    {
      "cell_type": "markdown",
      "metadata": {
        "id": "Xva6gL-FWitb"
      },
      "source": [
        "- 固有値、固有ベクトルは、量子力学と密接な関係にあります。最初にそれを触れておきましょう。物理学は、相対性理論までが古典論です。ところが、原子などの話となると、古典論では説明のつかない事が起こってきました。ボーアの原子模型では、電子軌道が飛び飛びになってる、いわゆるs軌道とかp軌道とかいうやつですね。これはすでに古典論では連続にならないといけないので、この部分が前期量子論です、ここから量子力学に行くには、３人の偉人、ハイゼンベルグ、シュレディンガー、ディラックの活躍を必要です。(1.jpeg)\n",
        "- この電子軌道を抽象化した概念が定常状態であり、一般の状態はこれら定常状態の一次結合となります。先の画像や(2.jpeg,3.jpeg)は放送大学の今年度新しく開講した量子物理学の画像です。この授業では、ディラックによる定式化による量子力学の流儀に従ってます。ディラックは状態をケット、観測量をオブザーバブルといってます。これは線形空間の元つまりベクトルをケット、線形写像を観測量としてますが、正確には観測量はそのままでは見ることができず、その固有値しかわかりません。\n",
        "- つまり、定常状態とは固有ベクトル、その固有値がその定常状態が表す観測量の値、そして、一般の状態はその固有ベクトルの一次結合。実はその係数の絶対値は、その状態が取りうる確率を表しています。\n"
      ]
    }
  ]
}