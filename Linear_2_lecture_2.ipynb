{
  "nbformat": 4,
  "nbformat_minor": 0,
  "metadata": {
    "colab": {
      "name": "Linear_2-lecture_2.ipynb",
      "provenance": [],
      "toc_visible": true,
      "authorship_tag": "ABX9TyORxFB6qdw4Iq3wtINlnoKq",
      "include_colab_link": true
    },
    "kernelspec": {
      "name": "python3",
      "display_name": "Python 3"
    },
    "language_info": {
      "name": "python"
    }
  },
  "cells": [
    {
      "cell_type": "markdown",
      "metadata": {
        "id": "view-in-github",
        "colab_type": "text"
      },
      "source": [
        "<a href=\"https://colab.research.google.com/github/eclipse2ant/linear_2/blob/master/Linear_2_lecture_2.ipynb\" target=\"_parent\"><img src=\"https://colab.research.google.com/assets/colab-badge.svg\" alt=\"Open In Colab\"/></a>"
      ]
    },
    {
      "cell_type": "markdown",
      "metadata": {
        "id": "vXMztBUaVnwo"
      },
      "source": [
        "# 固有値、固有ベクトル"
      ]
    },
    {
      "cell_type": "markdown",
      "metadata": {
        "id": "t1sQGMT4WJrf"
      },
      "source": [
        "## 1. 量子力学"
      ]
    },
    {
      "cell_type": "markdown",
      "metadata": {
        "id": "Xva6gL-FWitb"
      },
      "source": [
        "- 固有値、固有ベクトルは、量子力学と密接な関係にあります。最初にそれを触れておきましょう。物理学は、相対性理論までが古典論です。ところが、原子などの話となると、古典論では説明のつかない事が起こってきました。ボーアの原子模型では、電子軌道が飛び飛びになってる、いわゆるs軌道とかp軌道とかいうやつですね。これはすでに古典論では連続にならないといけないので、この部分が前期量子論です、ここから量子力学に行くには、３人の偉人、ハイゼンベルグ、シュレディンガー、ディラックの活躍を必要です。　"
      ]
    }
  ]
}