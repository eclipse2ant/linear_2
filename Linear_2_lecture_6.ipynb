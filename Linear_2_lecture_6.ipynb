{
  "nbformat": 4,
  "nbformat_minor": 0,
  "metadata": {
    "colab": {
      "name": "Linear_2-lecture_6.ipynb",
      "provenance": [],
      "toc_visible": true,
      "include_colab_link": true
    },
    "kernelspec": {
      "name": "python3",
      "display_name": "Python 3"
    },
    "language_info": {
      "name": "python"
    }
  },
  "cells": [
    {
      "cell_type": "markdown",
      "metadata": {
        "id": "view-in-github",
        "colab_type": "text"
      },
      "source": [
        "<a href=\"https://colab.research.google.com/github/eclipse2ant/linear_2/blob/master/Linear_2_lecture_6.ipynb\" target=\"_parent\"><img src=\"https://colab.research.google.com/assets/colab-badge.svg\" alt=\"Open In Colab\"/></a>"
      ]
    },
    {
      "cell_type": "markdown",
      "metadata": {
        "id": "t1sQGMT4WJrf"
      },
      "source": [
        "\n",
        "### 2.1.5.一般化固有空間\n"
      ]
    },
    {
      "cell_type": "markdown",
      "metadata": {
        "id": "vTdMFJmia9jx"
      },
      "source": [
        "- $V=K^n,\\ A \\in Mat_n(K),\\ \\lambda \\in K$ に対し、\n",
        "$\\widetilde{E}(\\lambda)=\\{v \\in V \\mid (A-\\lambda I)^r=0$  for some $r \\in \\mathbb{N}-\\{0\\} \\} $ つまり、何回か$A-\\lambda I$ を施して $0$ になる $v \\in V$ の集合です。　この中で　０でないものを固有値 $\\lambda$ の一般固有ベクトルといいます。１回で０になるならば、固有ベクトルですね。  "
      ]
    },
    {
      "cell_type": "markdown",
      "metadata": {
        "id": "eKB7zxXyJedE"
      },
      "source": [
        "- $\\lambda_1, \\cdots , \\lambda_r \\in K$を相異なる$A \\in M_n(K)$ の固有値としたとき、一般固有空間 $\\widetilde{E}=\\sum_{i=1}^r\\widetilde{E} (\\lambda_i)$ で定義すると、$\\widetilde{E}= \\oplus_{i=1}^r\\widetilde{E}(\\lambda_i)$ が成り立つ。　更に実は、$V＝\\widetilde{E}$ が成り立つ。\n",
        "- $A$ が対角化可能　$\\Longleftrightarrow$ $E=\\widetilde{E}$"
      ]
    }
  ]
}