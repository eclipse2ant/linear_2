{
  "nbformat": 4,
  "nbformat_minor": 0,
  "metadata": {
    "colab": {
      "name": "Linear_2-lecture_7.ipynb",
      "provenance": [],
      "include_colab_link": true
    },
    "kernelspec": {
      "name": "python3",
      "display_name": "Python 3"
    },
    "language_info": {
      "name": "python"
    }
  },
  "cells": [
    {
      "cell_type": "markdown",
      "metadata": {
        "id": "view-in-github",
        "colab_type": "text"
      },
      "source": [
        "<a href=\"https://colab.research.google.com/github/eclipse2ant/linear_2/blob/master/Linear_2_lecture_7.ipynb\" target=\"_parent\"><img src=\"https://colab.research.google.com/assets/colab-badge.svg\" alt=\"Open In Colab\"/></a>"
      ]
    },
    {
      "cell_type": "markdown",
      "metadata": {
        "id": "t1sQGMT4WJrf"
      },
      "source": [
        "\n",
        "### 2.1.6.一般固有空間分解と有限生成 $K[X]$ -加群の構造定理\n"
      ]
    },
    {
      "cell_type": "markdown",
      "metadata": {
        "id": "vTdMFJmia9jx"
      },
      "source": [
        "- $V=K^n,\\ A \\in Mat_n(K),\\ \\lambda \\in K$ に対し、$K[X]$ の$V$ への作用を $f(X)\\cdot v = f(A)v $ で定義します。\n",
        "\n",
        "- この作用によって、有限生成 $K[X]$-加群ができます。　第５回で述べた Structure_theorem_for_fg.pdf の定理12.3 使って、分解できます。具体的には、別の定理が必要ですが、ここでは、まず結果だけを例を揚げながら見ていきましょう。\n"
      ]
    },
    {
      "cell_type": "markdown",
      "metadata": {
        "id": "SqNOz6JKN8jx"
      },
      "source": [
        "- Jordan-2.pdf に　$n=4$ のときについて、具体的に書いてみました。肝心なことは、変換する正則行列は具体的にはわからなくても、ジョルダンの標準型の形はわかるということです。とはいっても、大きいサイズの行列ではお手上げかもしれませんが、理論は作れるでしょう。　正則行列が関与しなくて証明ができるのは、一つには定理12.3の証明は極大性を使う議論をつかってある元の存在を言ってるのでその元の具体的な構成法には触れられてないからです。そのあたりは証明の話で触れたいと思います。"
      ]
    }
  ]
}