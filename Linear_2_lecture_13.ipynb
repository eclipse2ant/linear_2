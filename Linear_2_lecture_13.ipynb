{
  "nbformat": 4,
  "nbformat_minor": 0,
  "metadata": {
    "colab": {
      "name": "Linear_2-lecture_13.ipynb ",
      "provenance": [],
      "include_colab_link": true
    },
    "kernelspec": {
      "name": "python3",
      "display_name": "Python 3"
    },
    "language_info": {
      "name": "python"
    }
  },
  "cells": [
    {
      "cell_type": "markdown",
      "metadata": {
        "id": "view-in-github",
        "colab_type": "text"
      },
      "source": [
        "<a href=\"https://colab.research.google.com/github/eclipse2ant/linear_2/blob/master/Linear_2_lecture_13.ipynb\" target=\"_parent\"><img src=\"https://colab.research.google.com/assets/colab-badge.svg\" alt=\"Open In Colab\"/></a>"
      ]
    },
    {
      "cell_type": "markdown",
      "metadata": {
        "id": "pEQg1aARxTZ9"
      },
      "source": [
        "###2.2.2.シルベスターの慣性律"
      ]
    },
    {
      "cell_type": "markdown",
      "metadata": {
        "id": "SqNOz6JKN8jx"
      },
      "source": [
        "- 対称行列は直交行列で対角化できました。直交行列は、逆行列は転置で与えられましたから、対称行列$B$に対して、$T$という直交行列で ${}^t\\!TBT$ という変形で対角行列に変形したことになります。これを$T$を一般の正則行列に拡張したらどうなるでしょうか？　対称行列$B$ は、対称双線型形式の表現行列に当たります。 ${}^t\\!TBT$　は基底を取り替えたときの変換則になっています。したがって、双線型形式の標準形を与えることになります。実際、対角成分は$1$か$-1$か$0$になります。$１$の数を$p$、 $-1$の数を$q$ とすると$(p,q)$ は一意的になります。$(p,q)$ を対称行列$B$ の符号数といいます。　\n",
        "\n"
      ]
    },
    {
      "cell_type": "markdown",
      "metadata": {
        "id": "jqWxsHXA6B0x"
      },
      "source": [
        "- $dim\\ V= n$ の線形空間上の双線形形式において、符号数 $(n,0)$ の対称行列に対応する双線形形式が $V$ の内積です。$D(p,q)$ を対角行列で対角成分に$1$ が$p$ 個,$-1$が $q$個並んだ行列とします。$p+q=n$において、${}^t\\!TD(p,q)T=D(p,q)$ を満たす$T$全体は群をなし、$O(p,q)$ で表します。$O(n,0)$ は　$O(n)$です。$O(n-1,1)$ はローレンツ群といわれます。$n=4$ のとき、$O(3,1)$ は特殊相対性理論におけるローレンツ群で、ローレンツ内積を不変にする変換で、物理法則はローレンツ変換に対して不変でなければならないというのが特殊相対論でした。"
      ]
    },
    {
      "cell_type": "markdown",
      "metadata": {
        "id": "IlxmXU1o7R3k"
      },
      "source": [
        "- シルベスターの慣性律の応用として、微積においてのヘシアン$H=(h_{i,j}), h_{i,j}=\\frac{\\partial f}{\\partial x_i \\partial x_j}$ は対称行列で、その符号数は、$f$の２次曲面での近似を与え、極値などの情報を与えます。またもっと一般にはモース理論とかと関わってきます。"
      ]
    }
  ]
}