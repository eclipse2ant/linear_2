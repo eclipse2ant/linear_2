{
  "nbformat": 4,
  "nbformat_minor": 0,
  "metadata": {
    "kernelspec": {
      "display_name": "Python 3",
      "language": "python",
      "name": "python3"
    },
    "language_info": {
      "codemirror_mode": {
        "name": "ipython",
        "version": 3
      },
      "file_extension": ".py",
      "mimetype": "text/x-python",
      "name": "python",
      "nbconvert_exporter": "python",
      "pygments_lexer": "ipython3",
      "version": "3.7.6"
    },
    "colab": {
      "name": "Linear_2-lecture_1.ipynb",
      "provenance": [],
      "collapsed_sections": [],
      "toc_visible": true,
      "include_colab_link": true
    }
  },
  "cells": [
    {
      "cell_type": "markdown",
      "metadata": {
        "id": "view-in-github",
        "colab_type": "text"
      },
      "source": [
        "<a href=\"https://colab.research.google.com/github/eclipse2ant/linear_2/blob/master/Linear_2_lecture_1.ipynb\" target=\"_parent\"><img src=\"https://colab.research.google.com/assets/colab-badge.svg\" alt=\"Open In Colab\"/></a>"
      ]
    },
    {
      "cell_type": "markdown",
      "metadata": {
        "id": "FNEhDjhFuntV"
      },
      "source": [
        "# はじめに\n",
        "\n",
        "　\n",
        "\n"
      ]
    },
    {
      "cell_type": "markdown",
      "metadata": {
        "id": "_XjONrj2ZJ-F"
      },
      "source": [
        "これから、線形代数 II についてオンライン授業で行います。オンライン授業で授業するのは、まだ慣れてないので、何分不手際もあるると思いますがよろしくお願いします。"
      ]
    },
    {
      "cell_type": "markdown",
      "metadata": {
        "id": "Rp9-KFQtYjcq"
      },
      "source": [
        "## 授業の進め方"
      ]
    },
    {
      "cell_type": "markdown",
      "metadata": {
        "id": "sMahpfNuXiNV"
      },
      "source": [
        "授業はオンライン反転授業という形で行いたいと思います。従来の反転授業は、用意されたビデオなどをあらかじめ学習して課題を解いたり、議論したりというやり方ですが、ここではビデオは用意しません、私が用意しなくても、ネット上にいろいろなビデオアや情報は転がっています。それらを検索して、必要な情報を見つけてください。こちらからは、調べてほしい内容を指示します。それらについて自分でネットまたは本などで調べてもらい、レポートを提出してもらいます。それと小テスト、これがGoogle Form で選択肢から選んでもらう小テストを提出してもらいます。\n"
      ]
    },
    {
      "cell_type": "markdown",
      "metadata": {
        "id": "zpFysQ6IX1Ep"
      },
      "source": [
        "## 学んでほしいこと\n"
      ]
    },
    {
      "cell_type": "markdown",
      "metadata": {
        "id": "ZwecXDu5XiAd"
      },
      "source": [
        "### 1.Google Classroom. "
      ]
    },
    {
      "cell_type": "markdown",
      "metadata": {
        "id": "6iSfRiJkuntc"
      },
      "source": [
        "\n",
        "+ この大学の他の授業でもそうですが、Google Classroomを用いて行っています。これからあなたたちが、社会に出て行って、学校や会社に勤めたりしても。自分自身でオンラインで授業したり、研修会を実施したり、参加したりすることが予想されます。コロナによって、世界中がオンラインでの実施の可能性に目覚めて、アフターコロナ後も普及すると考えられます。その意味で、Google Classroom に慣れておくことは重要です。\n"
      ]
    },
    {
      "cell_type": "markdown",
      "metadata": {
        "id": "d0CqYmrhuntd"
      },
      "source": [
        "+ 自分でクラスを作ってみる. ----  Google Classroom  に早くなれるコツはご自分でClassroom を作ってみることです。これにはまず自分のGmailのアカウントが必要になります。これはすでにタブレットやスマホの関係ですでに持ってる人もいれば、いない人もいると思いますが、Gmailアカウントは簡単に作れます。ここで注意してほしいのは、大学で行われてるGoogle　ClassroomのアカウントはG Suit　という大学で一括管理されているアカウントなので、このアカウントでもClassroom を作るかとは可能かもしれませんが、これは一括管理されているので、これとは別の個人のGoogle　アカウントで行ってください。"
      ]
    },
    {
      "cell_type": "markdown",
      "metadata": {
        "id": "8zKTeD8Luntd"
      },
      "source": [
        "### 2.検索する技術.\n"
      ]
    },
    {
      "cell_type": "markdown",
      "metadata": {
        "id": "KvwvQ09vZ4iH"
      },
      "source": [
        "- インターネット上で自分の知りたい内容をさがす技術を身に着けてください。「Webで知る」--Web情報検索入門--　 k角谷和俊著　サイエンス社　など、Webの検索エンジンの仕組みを簡単に説明した本とかも出ています。いろいろ検索のノウハウを学ぶことは、これからのデジタル社会で非常に役立ちます。またスクレーピングといった技術やプログラミングで自動化する術も身に着けるとこれから非常に役立つと思います。授業の中でPythonのことについても触れていきたいと思っています。実際にはPython単体をインストールするよりもAnacondaをインストールしたほうが何かと便利です。"
      ]
    },
    {
      "cell_type": "markdown",
      "metadata": {
        "id": "NRHqpniOrko_"
      },
      "source": [
        "### 3.データ分析、データ処理の自動化、Cloud環境、Python, GAS\n"
      ]
    },
    {
      "cell_type": "markdown",
      "metadata": {
        "id": "kWkDif3daDMw"
      },
      "source": [
        "- 近年、Excel等のの処理の自動化、すなわちRPA（Robotonic Process Automation)が騒がれてます。特にPythonのライブラリーであるPandasやopenpyxl を使ったExcelの処理の自動化やSeleniumやBeatifusoup4を使ったWeb操作の自動化やスクレイピングがいろんなところで解説されてます。それらの操作を身につけることやCloud環境に慣れることでGoogle ClassrommやGoogle Colaboratoryを使えるようになることは、オンライン教育を行っていく上で貴重な武器になると思います。ぜひともこの時期にこれらのツールに強くなってください。"
      ]
    },
    {
      "cell_type": "markdown",
      "metadata": {
        "id": "Q97YOOtgunte"
      },
      "source": [
        "### 3.現代数学の抽象性.\n"
      ]
    },
    {
      "cell_type": "markdown",
      "metadata": {
        "id": "4ZWyWzJvabJv"
      },
      "source": [
        "- 現代数学の大きな特徴として抽象化があります。高校数学にはなかったもので、特に線形代数や位相空間論ではじめて学ぶことになります。\n",
        "最初は戸惑うかもしれませんが、徐々に慣れてください。数学はある意味では言葉の学問です。講義ででてくる数学的な概念の定義を大切にしてください。ノートに定義を箇条書きに抜き出してみるとか、定義をいつでも引っ張り出せるようなまとめ方をしておくことが大切です。"
      ]
    },
    {
      "cell_type": "markdown",
      "metadata": {
        "id": "xCoLL0ewunte"
      },
      "source": [
        "\n",
        "## この授業で学ぶこと\n",
        "\n",
        "\n"
      ]
    },
    {
      "cell_type": "markdown",
      "metadata": {
        "id": "P-ivbxoxblue"
      },
      "source": [
        "### 1.ジョルダンの標準形"
      ]
    },
    {
      "cell_type": "markdown",
      "metadata": {
        "id": "bBtWmul0untf"
      },
      "source": [
        " - 数と$n$次正方行列の違いはなんでしょうか？　もちろん$n=1$ならば、両者は同じものです。だから$n$ は２以上とします。どちらも足し算や掛け算はあります。引き算つまり全ての元に対して加法の逆元はあります。では積に関しては、数では０以外の元に対して存在します。行列は行列式が０でないと逆行列は存在しません。また、数は可換ですが、行列は可換ではありません。　このことは物理における、量子化と関わりがあります。ハイゼンベルグの行列力学がその例です。\n",
        "- 行列の対角成分だけの行列は互いに可換になっていて。これは単純に数字を$n$個並べたものと変わりありません。行列が難しいのはこれ以外の成分があるからです。\n",
        "- ここで対角成分がすべて$0$の上三角行列を考えてみましょう。この行列は何乗かすると必ず$0$行列になります。こういう行列を**冪零行列**\n",
        "といいます。実は本質的には、正方行列を構成してるのは、この二つのタイプの行列　英語で言うと、**Semisimple type**　と　**Nilpotent type**\n",
        "を足した形になってる。こういう話をこれから学んでいきます。\n",
        "\n",
        "\n",
        "\n"
      ]
    },
    {
      "cell_type": "markdown",
      "metadata": {
        "id": "6JmDi0u-KAcC"
      },
      "source": [
        "### 2.内積"
      ]
    },
    {
      "cell_type": "markdown",
      "metadata": {
        "id": "-IB5LEZIVEZ9"
      },
      "source": [
        "- 体$K$が、実数または複素数のとき、線形空間には\n",
        "内積が定義されます。この講義では、内積の定義から初めて、ヒルベルト空間、また有限次元のときは、ユークリッド幾何やユニタリ空間など様々なことについて学びます、"
      ]
    }
  ]
}