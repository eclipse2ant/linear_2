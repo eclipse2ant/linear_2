{
  "nbformat": 4,
  "nbformat_minor": 0,
  "metadata": {
    "colab": {
      "name": "Linear_2-lecture_9.ipynb",
      "provenance": [],
      "include_colab_link": true
    },
    "kernelspec": {
      "name": "python3",
      "display_name": "Python 3"
    },
    "language_info": {
      "name": "python"
    }
  },
  "cells": [
    {
      "cell_type": "markdown",
      "metadata": {
        "id": "view-in-github",
        "colab_type": "text"
      },
      "source": [
        "<a href=\"https://colab.research.google.com/github/eclipse2ant/linear_2/blob/master/Linear_2_lecture_9.ipynb\" target=\"_parent\"><img src=\"https://colab.research.google.com/assets/colab-badge.svg\" alt=\"Open In Colab\"/></a>"
      ]
    },
    {
      "cell_type": "markdown",
      "metadata": {
        "id": "t1sQGMT4WJrf"
      },
      "source": [
        "\n",
        "### 2.1.8. 別証明\n"
      ]
    },
    {
      "cell_type": "markdown",
      "metadata": {
        "id": "vTdMFJmia9jx"
      },
      "source": [
        "- 今回は前回の証明の別証明を与えます。**Excersice.pdf**  を見てください。$\\mathbb{Z}$で書かれてますが。これを$K[X]$に読み換えれば聡明できます。両者の対応は第5回に話した通りです。ここでは$\\mathbb{Z}$のままで証明して、あとで読み換えましょう。$A$ は有限アーベル群ですが、これは有限生成 $\\mathbb{Z}$-加群と同義です。\n",
        "\n"
      ]
    },
    {
      "cell_type": "markdown",
      "metadata": {
        "id": "pEQg1aARxTZ9"
      },
      "source": [
        "- まず(a) です　injective つまり　**単射的**の定義は**Injective.jpeg** に書かれてます。また、$R$が単項イデアル整域のとき、$R$-\n",
        "加群が単射的であるための必要十分は加除加群であることです。$R$ 加群 $M$ が加除とは、任意の $a \\in R,\\ x \\in M$ に対して、$x=ay$ なる $y \\in M$ が存在するときを言います。実際 $\\mathbb{Z}_n$ は加除加群です。　必要十分の証明も **Injective.jpeg** に書かれてます。この証明にはZornの補題が使われています。"
      ]
    },
    {
      "cell_type": "markdown",
      "metadata": {
        "id": "SqNOz6JKN8jx"
      },
      "source": [
        "- 次は (b) です。$ann\\ A=\\{n\\in \\mathbb{Z} \\mid na=0 \\ \\text{for all} \\ a \\in A \\}$ を $A$ のAnnihilator(零化イデアル）といいます。(b) の証明は、$\\{ ann\\ x \\}_{x \\in A}$ ただし　$ann\\ x = \\{n \\in \\mathbb{Z} \\mid  nx =0\\}$。$\\mathbb{Z}$ は単項イデアル整域よりネーター環です。従って、イデアルの集合には極大元が存在します。今それを\n",
        "$ann\\ x_0$ とします。この時　任意の$x \\in A$ に対して　$ann\\ x \\subset ann\\ x_0 $ が成り立ちます。なぜなら、もし成り立たないとすると それぞれのイデアルの生成元を$a,b \\in \\mathbb{Z}$ とすると　$a$ は $b$ を約数に持たない。従って$a,b$ の最大公約数を$d$ とすると $b=cd$で$c$ は単元でない。$ann\\ cx_0$ に $d$ が含まれるので、$ann\\ cx_0$ は真に $ann\\ x$ より大きくなり。極大性に反する。従って $ann\\ x = ann\\ A$。従って $\\phi([n])=nx_0,\\ [n]\\in \\mathbb{Z}/(ann\\ A)$ とすればよい。\n",
        " "
      ]
    },
    {
      "cell_type": "markdown",
      "metadata": {
        "id": "dwX1pShToDV_"
      },
      "source": [
        "- さてp.80 において書かれてるように、$V$ の基底 $(e_i)_{1\\leq i \\leq n}$ に関し、線形写像 $f$ の表現行列を $F$ とすると、　${}^t\\!(p_1,\\cdots p_n) \\in R^n$ を$T$ 倍することを $F$を施すことと同一視したい。それには、$(T1_n - F)(R^n)$つまり $Im\\ F(T) $ で　$R^n$ を割った商加群を考えればよい。そしてこの加群が実際加群 $V$ と同型であることを示す。 \n"
      ]
    },
    {
      "cell_type": "markdown",
      "metadata": {
        "id": "mokkXShmwqmP"
      },
      "source": [
        "- そのために $\\varphi, \\psi$ を定義している。ここで　Jordan-proof-4.jpeg の定理12.1 いわゆる単因子論を使う。これは体$K$ のときの基本変形で対角成分を１か０にするのと同じ。今場合０は出てこない。なぜなら ０があると変形した行列の行列式は０になる。行列式の定義は$K$のときと同じなので、行列式は基本変形によらないから、$det(F(T))$ に等しくないいけないから 0 でない。またこのことから $d_1(T)\\cdots d_r(T)$ は固有多項式になる。また　$dim_K(R^n/Im\\ F(T))=n$　となり、$R^n/Im\\ F(T)=R^n/Im\\ \\varphi=R^n/Ker\\ \\psi$ となる。"
      ]
    }
  ]
}