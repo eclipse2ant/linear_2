{
  "nbformat": 4,
  "nbformat_minor": 0,
  "metadata": {
    "colab": {
      "name": "Linear_2-lecture_9.ipynb",
      "provenance": [],
      "include_colab_link": true
    },
    "kernelspec": {
      "name": "python3",
      "display_name": "Python 3"
    },
    "language_info": {
      "name": "python"
    }
  },
  "cells": [
    {
      "cell_type": "markdown",
      "metadata": {
        "id": "view-in-github",
        "colab_type": "text"
      },
      "source": [
        "<a href=\"https://colab.research.google.com/github/eclipse2ant/linear_2/blob/master/Linear_2_lecture_9.ipynb\" target=\"_parent\"><img src=\"https://colab.research.google.com/assets/colab-badge.svg\" alt=\"Open In Colab\"/></a>"
      ]
    },
    {
      "cell_type": "markdown",
      "metadata": {
        "id": "t1sQGMT4WJrf"
      },
      "source": [
        "### 2.1.8. 別証明\n"
      ]
    },
    {
      "cell_type": "markdown",
      "metadata": {
        "id": "vTdMFJmia9jx"
      },
      "source": [
        "- 今回は前回の証明の別証明を与えます。**Excersice.pdf**  を見てください。$\\mathbb{Z}$で書かれてますが。これを$K[X]$に読み換えれば聡明できます。両者の対応は第5回に話した通りです。ここでは$\\mathbb{Z}$のままで証明して、あとで読み換えましょう。$A$ は有限アーベル群ですが、これは有限生成 $\\mathbb{Z}$-加群と同義です。\n",
        "\n"
      ]
    },
    {
      "cell_type": "markdown",
      "metadata": {
        "id": "pEQg1aARxTZ9"
      },
      "source": [
        "- まず(a) です　injective つまり　**単射的**の定義は**Injective.jpeg** に書かれてます。また、$R$が単項イデアル整域のとき、$R$-\n",
        "加群が単射的であるための必要十分は加除加群であることです。$R$ 加群 $M$ が加除とは、任意の $a \\in R,\\ x \\in M$ に対して、$x=ay$ なる $y \\in M$ が存在するときを言います。実際 $\\mathbb{Z}_n$ は可除加群です。　必要十分の証明も **Injective.jpeg** に書かれてます。この証明にはZornの補題が使われています。 しかしこのやり方はダメです。$\\mathbb{Z}_{(n)}$は一般に整域でないので使えません.。実際、正規でないときは可除でない。\n",
        "- そこで[別証明のリンク先](https://math.stackexchange.com/questions/1232291/r-ra-is-an-injective-module-over-itself/1232540?fbclid=IwAR3p9BhQvOjr8skwUcWTw8N7O1EfB6iIjSIwWu-gzuufq0pY0lx5IdPQ90M#1232540)\n",
        "これに尽きるようで、単項イデアル整域を０でないイデアルで割った剰余環の話になります。\n",
        "最初の方は読みにくく、後半から読んだ方が分かりやすい。\n",
        "Qを有理数体とすると　Q/Z はZ 加群として加除なります。単項イデアル整域の加群は加除であることがinjective 　の必要十分条件ですから、Q/ZはZ加群としてinjective です。\n",
        "さて、一般にR加群Mに対して　RのイデアルI　に対し、\n",
        "M[I]={ m ∊　M |  I・m =0 }\n",
        "とすると　Mの部分加群になります。作り方からR/I 加群にもなっています。\n",
        "とくにM　が　R加群としてinjective なら　M[I] は　R/I 加群としてinjective になるのはinjective の定義からすぐわかります。\n",
        "Rが単項イデアル整域なら　　Q(R) をRの商体　とすると　M=Q（R)/R とすれば、　I=(a) とすると　M[I]はR/(a) と同型になります。つまり　分数イデアル(a)^(-1) /R  ですから  r ∊　R   -->  [ ｒ/a]　∊ (a)^-1)/R　　ですから　全射でKernel は　(a)　ですね。　したがってR/(a) は　R/(a) 加群としてinjective です。\n",
        " 最初の方は　[Baer's criterion:](https://stacks.math.columbia.edu/tag/05NU)\n",
        "を使っています。"
      ]
    },
    {
      "cell_type": "markdown",
      "metadata": {
        "id": "SqNOz6JKN8jx"
      },
      "source": [
        "- Aを単項イデアル整域　その有限生成加群をMとすると、その構造定理を示すのに　Ann（M)を考えるAをあらかじめこのイデアルで割っておいて、それをあらためてAとおいてもA－加群としてMは定義できる。この時Aは整域でなくなるが、アルティン環になっている。（b）が言いたいのは、Ann（ｘ）＝Ann(Ｍ)　となるｘの存在だけど、これが手こずる。アルティン環については自分で調べてみてください。直感的に言うと、次元０の可換環になり、ただしこの次元とは代数多様体（アフィンスキーム）としての次元です。体はこの場合は１点になってしまいます。（以下のアルティン環に関する話はいろんな概念を使うので用語等は完全には説明しきれません。用語等は自分で調べてみてください。なおこのへんは、参考程度の話ですので、今後、代数学の選択に授業等で可換環論を学ぶ際の参考にしてください。"
      ]
    },
    {
      "cell_type": "markdown",
      "metadata": {
        "id": "2Vq5rKEI8D7w"
      },
      "source": [
        "- まずアルティン環の性質として、素イデアル＝極大イデアルでかつ有限個　今m_1, ... m_n とすると極大イデアルは互いに素なので　これらの共通部分つまりJacobson根基はこれらのイデアルの積に等しい。かつこのイデアルは冪零なので、あるｋにおいて　m_iたちのｋ乗の積は０　またm_i のk乗たちは互いに素になる。これはイデアルのラディカルが互いに素であれば、もとのイデアルも互いに素（これは　Atiyah-Macdonald（以下AMと略す）の命題１．１６）、同じく定理８．７　でアルティン環の構造定理つまり、中国式剰余定理を使ってるだけだけど、それが出てくる。これで　Aは　A/(m_i)^k という局所環の直積に分解できる。同様にMもA/(m_i)^k ‐加群　M/(m_i)^kM　の直積に分解できる。もとの単項イデアル整域のときのAが複素（ないしは代数的閉体）上の一変数多項式環のときは、m_i は一次式だから、局所環の加群はAnn（ｘ）はm_i\n",
        "の冪のイデアルになっているから、一般化された固有空間ですよね。ｘのなかで冪が一番大きいものをとってきて、それを各直積成分で考えたものを元に戻せば、Ａｎｎ（x) はｘをいろいろ変えた中で最小のイデアル与えてる。従ってＡｎｎ（Ｍ）＝Ａｎｎ（ｘ）になってる。実際は０になるから、（ｂ）の埋め込み写像が定義できて、次にinjectiveであることを使って直和分解をとるという流れです"
      ]
    },
    {
      "cell_type": "markdown",
      "metadata": {
        "id": "dwX1pShToDV_"
      },
      "source": [
        "- (c)(d) は (a) より　$A \\simeq Im\\ \\phi\\ \\oplus coker\\ \\phi$ が成り立つ、証明は**Injective-2.jpeg**の定理1.7の(iii)より従う。\n"
      ]
    },
    {
      "cell_type": "markdown",
      "metadata": {
        "id": "mokkXShmwqmP"
      },
      "source": [
        "- (e) 中国式剰余定理から(f) は　ほぼ明らか。$K[X]$のときは　$Ann\\ A$ の生成元 $b$ が最小多項式になる。　実際、この元はネーター環の性質から極大元をとってきたので、具体的にわからない。この場合は固有多項式より先に、標準形が先に示されて、そこから、固有多項式と関係がわかる。"
      ]
    },
    {
      "cell_type": "code",
      "source": [
        ""
      ],
      "metadata": {
        "id": "QNCBuN3i307I"
      },
      "execution_count": null,
      "outputs": []
    },
    {
      "cell_type": "code",
      "source": [
        ""
      ],
      "metadata": {
        "id": "Fv4oE7KW5vu-"
      },
      "execution_count": null,
      "outputs": []
    },
    {
      "cell_type": "code",
      "source": [
        ""
      ],
      "metadata": {
        "id": "GFEeNk8r6sVI"
      },
      "execution_count": null,
      "outputs": []
    }
  ]
}