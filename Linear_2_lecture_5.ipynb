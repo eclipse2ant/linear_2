{
  "nbformat": 4,
  "nbformat_minor": 0,
  "metadata": {
    "colab": {
      "name": "Linear_2-lecture_5.ipynb",
      "provenance": [],
      "toc_visible": true,
      "include_colab_link": true
    },
    "kernelspec": {
      "name": "python3",
      "display_name": "Python 3"
    },
    "language_info": {
      "name": "python"
    }
  },
  "cells": [
    {
      "cell_type": "markdown",
      "metadata": {
        "id": "view-in-github",
        "colab_type": "text"
      },
      "source": [
        "<a href=\"https://colab.research.google.com/github/eclipse2ant/linear_2/blob/master/Linear_2_lecture_5.ipynb\" target=\"_parent\"><img src=\"https://colab.research.google.com/assets/colab-badge.svg\" alt=\"Open In Colab\"/></a>"
      ]
    },
    {
      "cell_type": "markdown",
      "metadata": {
        "id": "t1sQGMT4WJrf"
      },
      "source": [
        "### 2.1.3.$K[X]$ と $\\mathbb{Z}$\n",
        "\n"
      ]
    },
    {
      "cell_type": "markdown",
      "metadata": {
        "id": "Xva6gL-FWitb"
      },
      "source": [
        "\n",
        "\n",
        "- $K[X]$-加群を考える際に$\\mathbb{Z}$-加群と比較しながら考えたいと思います。まず、$K[X]$と$\\mathbb{Z}$ を比較してみましょう。\n"
      ]
    },
    {
      "cell_type": "markdown",
      "metadata": {
        "id": "Er8o27BhJOL7"
      },
      "source": [
        "- まず、どちらも可換環です。可換環については、あとで少し触れます。重要なのは２つです、一つはどちらも商と余りの形にかける、これを使って前回、最小多項式は、行列$A$で０になる多項式を割ることを示しましたよね。これはユークリッド整域という性質です。整域というのは$ab=0$ ならば $a=0 $ または $b=0$が成り立つことを言います。もう一つは素因数分解です。整数は素数の積に一意的に分解できます、多項式の場合はどうでしょうか？　代数的閉体の場合は、必ず１次式に因数分解できます。だから係数の自由度があるけど、１次式の積に一意的に分解できます。整数の場合は$\\pm 1$ 多項式の場合は係数これらはみんな積に関して逆元を持つ元です。これを単元といいます。これを難しくいうと、素元分解整域といいます。\n",
        "\n",
        "\n",
        "\n"
      ]
    },
    {
      "cell_type": "markdown",
      "metadata": {
        "id": "eKB7zxXyJedE"
      },
      "source": [
        "### 2.1.4.$\\mathbb{Z}$-加群、$K[X]$-加群\n"
      ]
    },
    {
      "cell_type": "markdown",
      "metadata": {
        "id": "bHkEKS6qYSav"
      },
      "source": [
        "- $A$ を可換環としたとき　$A$-加群と線型空間の違いはどこにあるのでしょうか？　まず、体$K$は$1$次元線形空間で　０以外に部分空間を持ちません。しかし$A$は$A$-加群ですが、いくらでも部分空間を持ちえます。例えば　$\\mathbb{Z}$ であれば、$2\\mathbb{Z}, 3\\mathbb{Z}$ とか、いくらでも持てます。この$A$の部分加群のことを$A$ の**イデアル**といいます。$I$ を $A$ のイデアルとするとき$A/I$は、$A$-加群ですが、実際これも可換環になります。\n",
        "\n",
        "- すべてのイデアルが一個の元から生成されるとき、その環を単項イデアル環といいます。ユークリッド環は単項イデアル環になります。"
      ]
    }
  ]
}