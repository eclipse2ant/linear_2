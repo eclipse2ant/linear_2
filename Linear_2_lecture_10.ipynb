{
  "nbformat": 4,
  "nbformat_minor": 0,
  "metadata": {
    "colab": {
      "name": "Linear_2-lecture_10.ipynb",
      "provenance": [],
      "include_colab_link": true
    },
    "kernelspec": {
      "name": "python3",
      "display_name": "Python 3"
    },
    "language_info": {
      "name": "python"
    }
  },
  "cells": [
    {
      "cell_type": "markdown",
      "metadata": {
        "id": "view-in-github",
        "colab_type": "text"
      },
      "source": [
        "<a href=\"https://colab.research.google.com/github/eclipse2ant/linear_2/blob/master/Linear_2_lecture_10.ipynb\" target=\"_parent\"><img src=\"https://colab.research.google.com/assets/colab-badge.svg\" alt=\"Open In Colab\"/></a>"
      ]
    },
    {
      "cell_type": "markdown",
      "metadata": {
        "id": "t1sQGMT4WJrf"
      },
      "source": [
        " # 2.内積空間\n"
      ]
    },
    {
      "cell_type": "markdown",
      "metadata": {
        "id": "vTdMFJmia9jx"
      },
      "source": [
        "- ここからは内積が入った線形空間について、扱います。そのため考えてる係数体は　実数体か複素数体になります。\n",
        "\n"
      ]
    },
    {
      "cell_type": "markdown",
      "metadata": {
        "id": "1AQA-ShmySUB"
      },
      "source": [
        "## 2.1.内積"
      ]
    },
    {
      "cell_type": "markdown",
      "metadata": {
        "id": "pEQg1aARxTZ9"
      },
      "source": [
        "## 2.1.1.内積の定義"
      ]
    },
    {
      "cell_type": "markdown",
      "metadata": {
        "id": "SqNOz6JKN8jx"
      },
      "source": [
        "- 実線形空間のときの内積の定義調べてください。ここでは具体例として、$V=\\mathbb{R}^n$ で$x={}^t\\!(x_1,\\cdots,x_n), y={}^t\\!(y_1,\\cdots,y_n))$ としたとき、$(x,y)={}^t\\!x\\cdot y$ でで定めると、これは内積を与える。　\n",
        "- 複素線形空間のときの内積の定義調べてください。ここでは具体例として、$V_{\\mathbb{C}}=\\mathbb{C}^n$ で$z={}^t\\!(z_1,\\cdots,z_n), w={}^t\\!(w_1,\\cdots,w_n))$ としたとき、$(z,w)={}^t\\!z\\cdot \\bar{w}$ でで定めると、これは内積を与える。　\n"
      ]
    },
    {
      "cell_type": "markdown",
      "metadata": {
        "id": "dwX1pShToDV_"
      },
      "source": [
        "## 2.1.2内積の性質\n"
      ]
    },
    {
      "cell_type": "markdown",
      "metadata": {
        "id": "mokkXShmwqmP"
      },
      "source": [
        "- $\\|x\\|=(x,x)^{1/2}　x\\in V,\\ \\|z\\|=(z,z)^{1/2}　z\\in V_{\\mathbb{C}}$  としたときそれぞの線形空間のノルムといいます。ノルムの定義を実線形空間、複素線形空間の場合に定義を調べてください。\n",
        "- シュバルツの不等式について調べてください。\n",
        "- 大切なことは、内積から定義されたノルムは、シュバルツの不等式を使って初めて、ノルムの定義を満たすことです。またこの不等式から、２つのベクトルのなす角が定義されるということです。注意してほしいのは今は有限次元とは仮定していないことです。\n",
        "- ノルムが与えられれば　そこから距離が定義できます。従って距離空間になります。従って一様位相構造が定まります。特に無限次元のとき、完備な内積空間をヒルベルト空間、ノルム空間をバナッハ空間といいます。\n",
        "- 有限次元の場合、普通ユークリッド空間　複素の場合にユニタリ空間といいます。これからわかるように、初等幾何のユークリッド公理は全く必要としません。ベクトルと内積があれば、初等幾何は不要なのです！！。むしろ、ここから、さらに曲面論などの非ユークリッド幾何への道があります。多様体論ですが、局所的には線形空間であり、その局所で考えることが微分なのです。"
      ]
    },
    {
      "cell_type": "markdown",
      "metadata": {
        "id": "VnhL13Qj4YtI"
      },
      "source": [
        "###2.1.3.正規直交基底とグラムシュミットの正規直交化化法\n"
      ]
    },
    {
      "cell_type": "markdown",
      "metadata": {
        "id": "qCvmQapp4u8j"
      },
      "source": [
        "- 正規直交基底の定義とグラムシュミットの正規直交化法について調べてください。"
      ]
    }
  ]
}