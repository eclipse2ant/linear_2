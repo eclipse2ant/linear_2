{
  "nbformat": 4,
  "nbformat_minor": 0,
  "metadata": {
    "colab": {
      "name": "Linear_2-lecture_3.ipynb",
      "provenance": [],
      "toc_visible": true,
      "include_colab_link": true
    },
    "kernelspec": {
      "name": "python3",
      "display_name": "Python 3"
    },
    "language_info": {
      "name": "python"
    }
  },
  "cells": [
    {
      "cell_type": "markdown",
      "metadata": {
        "id": "view-in-github",
        "colab_type": "text"
      },
      "source": [
        "<a href=\"https://colab.research.google.com/github/eclipse2ant/linear_2/blob/master/Linear_2_lecture_3.ipynb\" target=\"_parent\"><img src=\"https://colab.research.google.com/assets/colab-badge.svg\" alt=\"Open In Colab\"/></a>"
      ]
    },
    {
      "cell_type": "markdown",
      "metadata": {
        "id": "t1sQGMT4WJrf"
      },
      "source": [
        "### 1.2.2.具体例\n"
      ]
    },
    {
      "cell_type": "markdown",
      "metadata": {
        "id": "Xva6gL-FWitb"
      },
      "source": [
        "- 前回、固有方程式の解が固有値であることを学びました。したがって、代数的閉体である$\\overline{K}$に体を拡張して考えないと固有ベクトルは議論できないことを見ました。ここでは\n",
        "以下特にことわらない限り、**$K$は代数的閉体すなわち$K=\\overline{K}$とします。**\n",
        "-特に$K=\\mathbb{C}$のときに具体例を見てみましょう。具体的に固有値を求められるのは固有方程式が２次または３次くらいです。固有値を$\\lambda$とすると　$(A-\\lambda I)x=0$という連立方程式を解けば、固有ベクトルは求まります。行列 $A-\\lambda I$ は正則でないから、必ず非自明な解を持ちます。解くのは、線形数学概論で勉強していると思います。"
      ]
    },
    {
      "cell_type": "markdown",
      "metadata": {
        "id": "Er8o27BhJOL7"
      },
      "source": [
        "### 1.2.3.対角化可能\n"
      ]
    },
    {
      "cell_type": "markdown",
      "metadata": {
        "id": "eKB7zxXyJedE"
      },
      "source": [
        "- $\\lambda_1, \\cdots , \\lambda_r \\in K$を相異なる$A \\in M_n(K)$ の固有値としたとき、固有空間$E=\\oplus_{i=1}^rE(\\lambda_i)$が　$V＝K^n$ に等しいとき、各$E(\\lambda_i)$の基底をとって来ればVの基底が作れる。この基底に対して$A$の表現行列は対角行列になる。\n",
        "- $A$が ある正則行列$S$ において　$SAS^{-1}=D$, ただし$D$は対角行列となるとき、Aは対角化可能という。Aが対角化可能であるための必要十分条件は、$E=V$である。\n",
        "- 固有方程式 $\\varphi$ が重根を持たないとき、このときは対角化可能です。問題は重根を持つときです。いつでも対角化可能になってくれるでしょうか？　答えはNo!　です。次に定義する$A$の最小多項式が重根を持たないことが必要十分条件になります。\n"
      ]
    },
    {
      "cell_type": "markdown",
      "metadata": {
        "id": "JDLwafyFWmx_"
      },
      "source": [
        "## 1.3.最小多項式"
      ]
    },
    {
      "cell_type": "markdown",
      "metadata": {
        "id": "SrXRefYxXaSI"
      },
      "source": [
        "### 1.3.1.定義\n"
      ]
    },
    {
      "cell_type": "markdown",
      "metadata": {
        "id": "2csQWvclXqS6"
      },
      "source": [
        "- $K[X]$を$K$上の多項式環とする、$A \\in M_n(K)$に対して、$f \\in K[X] s.t. f(A)=0$ となる次数最小の 最高次の係数が１　なる$f$ を$A$の最小多項式といい、一意的に存在する。\n"
      ]
    },
    {
      "cell_type": "markdown",
      "metadata": {
        "id": "Awo2P9gWbzf8"
      },
      "source": [
        "### 1.3.2.性質"
      ]
    },
    {
      "cell_type": "markdown",
      "metadata": {
        "id": "kp2zx6jcb5RW"
      },
      "source": [
        "- $g \\in K[X]$が　$g(A)=0$ ならば　$g$は$f$ で割り切れる。\n",
        "- $\\varphi$を$A$の固有方程式とすると、よく大学入試で塾などで覚えさせられるケーリー・ハミルトンの定理　$\\varphi(A)=0$ が成り立つ。従って、$\\varphi$は$f$で割り切れる。\n",
        "- 従って、$f=0$ の解は全て$A$の固有値である。\n",
        "- 最小多項式が重根を持たないことが$A$ が対角化可能であるための必要十分条件である。\n",
        "- これらの内容は、今後のジョルダンの標準形の証明の中で証明される。"
      ]
    }
  ]
}